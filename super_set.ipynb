{
 "cells": [
  {
   "cell_type": "markdown",
   "id": "b6d59073",
   "metadata": {},
   "source": [
    "# SuperSet\n",
    "\n",
    "In this notebook we aim to discover a way to represnet all of our finger prints"
   ]
  },
  {
   "cell_type": "markdown",
   "id": "0f5c1cf1",
   "metadata": {},
   "source": [
    "## Method 1:\n",
    "\n",
    "aim is to clean up the data and add 2 new columns such as **Drug_name** and **bond_type** then i will input them in a 1D CNN and use XAI techniques to see why a model has made a specific prediction.\n",
    "\n",
    "\n",
    "first we are going to clean up and change the format of the data\n",
    "\n",
    "we are going to have the following:\n",
    "* Residues \n",
    "* Interactions\n",
    "* Frames\n"
   ]
  },
  {
   "cell_type": "code",
   "execution_count": 26,
   "id": "56500ac9",
   "metadata": {},
   "outputs": [
    {
     "name": "stdout",
     "output_type": "stream",
     "text": [
      "Saved cleaned CSV for AMP: Data/superset/approach_1/cleaned_AMP.csv\n",
      "Saved cleaned CSV for COC: Data/superset/approach_1/cleaned_COC.csv\n",
      "Saved cleaned CSV for MDMA: Data/superset/approach_1/cleaned_MDMA.csv\n"
     ]
    },
    {
     "name": "stderr",
     "output_type": "stream",
     "text": [
      "C:\\Users\\amirt\\AppData\\Local\\Temp\\ipykernel_13888\\1353992735.py:56: FutureWarning: errors='ignore' is deprecated and will raise in a future version. Use to_numeric without passing `errors` and catch exceptions explicitly instead\n",
      "  df_cleaned = df_cleaned.apply(pd.to_numeric, errors='ignore')\n",
      "C:\\Users\\amirt\\AppData\\Local\\Temp\\ipykernel_13888\\1353992735.py:56: FutureWarning: errors='ignore' is deprecated and will raise in a future version. Use to_numeric without passing `errors` and catch exceptions explicitly instead\n",
      "  df_cleaned = df_cleaned.apply(pd.to_numeric, errors='ignore')\n",
      "C:\\Users\\amirt\\AppData\\Local\\Temp\\ipykernel_13888\\1353992735.py:56: FutureWarning: errors='ignore' is deprecated and will raise in a future version. Use to_numeric without passing `errors` and catch exceptions explicitly instead\n",
      "  df_cleaned = df_cleaned.apply(pd.to_numeric, errors='ignore')\n"
     ]
    }
   ],
   "source": [
    "import pandas as pd\n",
    "import os\n",
    "\n",
    "# Define input config for each drug\n",
    "drug_files = {\n",
    "    \"AMP\": {\n",
    "        \"path\": \"Data/Original/fp_comp_dataframe_AMP.csv\",\n",
    "        \"drug_name\": \"AMP\",\n",
    "        \"bond_type\": \"inward\"\n",
    "    },\n",
    "    \"COC\": {\n",
    "        \"path\": \"Data/Original/fp_comp_dataframe_COC.csv\",\n",
    "        \"drug_name\": \"COC\",\n",
    "        \"bond_type\": \"outward\"\n",
    "    },\n",
    "    \"MDMA\":{\n",
    "        \"path\": \"Data/Original/fp_comp_dataframe_MDMA.csv\",\n",
    "        \"drug_name\": \"MDMA\",\n",
    "        \"bond_type\": \"inward\"\n",
    "    }\n",
    "}\n",
    "\n",
    "# Create output directory if it doesn't exist\n",
    "os.makedirs(\"Data/superset\", exist_ok=True)\n",
    "\n",
    "# Processing loop\n",
    "for drug, config in drug_files.items():\n",
    "    # Load original CSV\n",
    "    df = pd.read_csv(config[\"path\"])\n",
    "\n",
    "    # STEP 1: Drop the third row (index 2), which contains mostly NaN values\n",
    "    df_cleaned = df.drop(index=2).reset_index(drop=True)\n",
    "\n",
    "    # STEP 2: Extract header rows\n",
    "    header_residues = df_cleaned.iloc[0]\n",
    "    header_types = df_cleaned.iloc[1]\n",
    "\n",
    "    # STEP 3: Create MultiIndex\n",
    "    multi_index = pd.MultiIndex.from_arrays([header_residues, header_types])\n",
    "\n",
    "    # STEP 4: Drop header rows\n",
    "    df_cleaned = df_cleaned.drop(index=[0, 1]).reset_index(drop=True)\n",
    "\n",
    "    # STEP 5: Apply MultiIndex\n",
    "    df_cleaned.columns = multi_index\n",
    "\n",
    "    # STEP 6: Insert correct frame column\n",
    "    frame_col = df.iloc[3:, 0].reset_index(drop=True)\n",
    "    df_cleaned.insert(0, (\"meta\", \"frame\"), frame_col.astype(int))\n",
    "\n",
    "    # STEP 6.5: Drop redundant (\"protein\", \"interaction\") column if present\n",
    "    if (\"protein\", \"interaction\") in df_cleaned.columns:\n",
    "        df_cleaned = df_cleaned.drop(columns=[(\"protein\", \"interaction\")])\n",
    "\n",
    "    # STEP 7: Convert numerics\n",
    "    df_cleaned = df_cleaned.apply(pd.to_numeric, errors='ignore')\n",
    "\n",
    "    # STEP 8: Fill NaN with 0\n",
    "    df_cleaned = df_cleaned.fillna(0)\n",
    "\n",
    "    # STEP 9: Add meta columns\n",
    "    df_cleaned[(\"meta\", \"bond_type\")] = config[\"bond_type\"]\n",
    "    df_cleaned[(\"meta\", \"drug_name\")] = config[\"drug_name\"]\n",
    "\n",
    "    # STEP 10: Reorder columns\n",
    "    df_cleaned = df_cleaned[\n",
    "        [col for col in df_cleaned.columns if col[0] != \"meta\" or col[1] == \"frame\"] +\n",
    "        [(\"meta\", \"bond_type\"), (\"meta\", \"drug_name\")]\n",
    "    ]\n",
    "\n",
    "    # Save cleaned version\n",
    "    output_path = f\"Data/superset/approach_1/cleaned_{config['drug_name']}.csv\"\n",
    "    df_cleaned.to_csv(output_path, index=False)\n",
    "    print(f\"Saved cleaned CSV for {drug}: {output_path}\")\n"
   ]
  },
  {
   "cell_type": "markdown",
   "id": "abcdb76a",
   "metadata": {},
   "source": [
    "### Numpy format \n",
    "\n",
    "loading the cleaned files, then extract:\n",
    "\n",
    "* x = all numeric feature columns (residue fingerprints)\n",
    "* y = bond_type label will be encoded such as 0= inward, 1= outward, 2= occluded\n",
    "\n",
    "thnen converting them into NumPy arrays \n",
    "and stakcing them for model training.\n",
    "\n",
    "**outcome:**\n",
    "\n",
    "```\n",
    "X shape: (1282, 46)\n",
    "y shape: (1282,)\n",
    "Classes: ['inward' 'outward']\n",
    "\n",
    "```"
   ]
  },
  {
   "cell_type": "code",
   "execution_count": 43,
   "id": "5d1c1f4c",
   "metadata": {},
   "outputs": [
    {
     "name": "stdout",
     "output_type": "stream",
     "text": [
      "X shape: (1282, 46)\n",
      "y shape: (1282,)\n",
      "Classes: ['inward' 'outward']\n",
      "Saved NumPy arrays to: Data/superset/approach_1/num\n"
     ]
    }
   ],
   "source": [
    "import pandas as pd\n",
    "import numpy as np\n",
    "from sklearn.preprocessing import LabelEncoder\n",
    "import os\n",
    "\n",
    "# List of cleaned files to include\n",
    "drug_files = [\"AMP\", \"COC\"]  # others can be added here\n",
    "\n",
    "X_list = []\n",
    "y_list = []\n",
    "\n",
    "for drug in drug_files:\n",
    "    # Load cleaned CSV\n",
    "    df = pd.read_csv(f\"Data/superset/approach_1/cleaned_{drug}.csv\", header=[0, 1])\n",
    "\n",
    "    # Extract feature matrix (drop all 'meta' columns)\n",
    "    X = df.loc[:, df.columns.get_level_values(0) != \"meta\"]\n",
    "    X = X.to_numpy(dtype=np.float32)\n",
    "\n",
    "    # Extract and encode bond_type as target\n",
    "    y = df[(\"meta\", \"bond_type\")]\n",
    "    y_list.append(y)\n",
    "\n",
    "    # Append features\n",
    "    X_list.append(X)\n",
    "\n",
    "# Combine all drugs into a single dataset\n",
    "X_all = np.vstack(X_list)\n",
    "\n",
    "# Encode labels\n",
    "le = LabelEncoder()\n",
    "y_all = le.fit_transform(pd.concat(y_list).values)\n",
    "\n",
    "# Shapes\n",
    "print(\"X shape:\", X_all.shape)\n",
    "print(\"y shape:\", y_all.shape)\n",
    "print(\"Classes:\", le.classes_)\n",
    "\n",
    "# Save numpy arrays\n",
    "output_dir = \"Data/superset/approach_1/num\"\n",
    "os.makedirs(output_dir, exist_ok=True)\n",
    "\n",
    "np.save(os.path.join(output_dir, \"X_all.npy\"), X_all)\n",
    "np.save(os.path.join(output_dir, \"y_all.npy\"), y_all)\n",
    "np.save(os.path.join(output_dir, \"y_labels.npy\"), le.classes_)\n",
    "\n",
    "print(f\"Saved NumPy arrays to: {output_dir}\")\n"
   ]
  },
  {
   "cell_type": "code",
   "execution_count": 80,
   "id": "604a66a8",
   "metadata": {},
   "outputs": [
    {
     "name": "stdout",
     "output_type": "stream",
     "text": [
      "Epoch 1/50 - Loss: 22.0506\n",
      "Epoch 2/50 - Loss: 20.4114\n",
      "Epoch 3/50 - Loss: 18.8914\n",
      "Epoch 4/50 - Loss: 15.7279\n",
      "Epoch 5/50 - Loss: 12.1657\n",
      "Epoch 6/50 - Loss: 8.4809\n",
      "Epoch 7/50 - Loss: 5.9380\n",
      "Epoch 8/50 - Loss: 4.2279\n",
      "Epoch 9/50 - Loss: 2.9953\n",
      "Epoch 10/50 - Loss: 2.2395\n",
      "Epoch 11/50 - Loss: 1.7513\n",
      "Epoch 12/50 - Loss: 1.3162\n",
      "Epoch 13/50 - Loss: 1.0971\n",
      "Epoch 14/50 - Loss: 0.9170\n",
      "Epoch 15/50 - Loss: 0.7867\n",
      "Epoch 16/50 - Loss: 0.6872\n",
      "Epoch 17/50 - Loss: 0.6075\n",
      "Epoch 18/50 - Loss: 0.5417\n",
      "Epoch 19/50 - Loss: 0.4916\n",
      "Epoch 20/50 - Loss: 0.4469\n",
      "Epoch 21/50 - Loss: 0.4061\n",
      "Epoch 22/50 - Loss: 0.3606\n",
      "Epoch 23/50 - Loss: 0.3304\n",
      "Epoch 24/50 - Loss: 0.3006\n",
      "Epoch 25/50 - Loss: 0.2950\n",
      "Epoch 26/50 - Loss: 0.2593\n",
      "Epoch 27/50 - Loss: 0.2448\n",
      "Epoch 28/50 - Loss: 0.2187\n",
      "Epoch 29/50 - Loss: 0.2014\n",
      "Epoch 30/50 - Loss: 0.1914\n",
      "Epoch 31/50 - Loss: 0.1787\n",
      "Epoch 32/50 - Loss: 0.1687\n",
      "Epoch 33/50 - Loss: 0.1641\n",
      "Epoch 34/50 - Loss: 0.1643\n",
      "Epoch 35/50 - Loss: 0.1542\n",
      "Epoch 36/50 - Loss: 0.1332\n",
      "Epoch 37/50 - Loss: 0.1277\n",
      "Epoch 38/50 - Loss: 0.1202\n",
      "Epoch 39/50 - Loss: 0.1221\n",
      "Epoch 40/50 - Loss: 0.1086\n",
      "Epoch 41/50 - Loss: 0.1010\n",
      "Epoch 42/50 - Loss: 0.0956\n",
      "Epoch 43/50 - Loss: 0.0940\n",
      "Epoch 44/50 - Loss: 0.0910\n",
      "Epoch 45/50 - Loss: 0.0836\n",
      "Epoch 46/50 - Loss: 0.0830\n",
      "Epoch 47/50 - Loss: 0.0747\n",
      "Epoch 48/50 - Loss: 0.0736\n",
      "Epoch 49/50 - Loss: 0.0723\n",
      "Epoch 50/50 - Loss: 0.0662\n",
      "\n",
      "Classification Report:\n",
      "              precision    recall  f1-score   support\n",
      "\n",
      "      inward       0.99      1.00      1.00       157\n",
      "     outward       1.00      0.99      0.99       100\n",
      "\n",
      "    accuracy                           1.00       257\n",
      "   macro avg       1.00      0.99      1.00       257\n",
      "weighted avg       1.00      1.00      1.00       257\n",
      "\n"
     ]
    }
   ],
   "source": [
    "import numpy as np\n",
    "import torch\n",
    "import torch.nn as nn\n",
    "from torch.utils.data import Dataset, DataLoader, random_split\n",
    "import torch.optim as optim\n",
    "from sklearn.model_selection import train_test_split\n",
    "from sklearn.metrics import classification_report\n",
    "\n",
    "# STEP 1: Load data\n",
    "X = np.load(\"Data/superset/approach_1/num/X_all.npy\")\n",
    "y = np.load(\"Data/superset/approach_1/num/y_all.npy\")\n",
    "y_labels = np.load(\"Data/superset/approach_1/num/y_labels.npy\", allow_pickle= True)\n",
    "\n",
    "# STEP 2: Train/test split (80/20)\n",
    "X_train, X_test, y_train, y_test = train_test_split(X, y, test_size=0.2, stratify=y, random_state=42)\n",
    "\n",
    "# STEP 3: PyTorch Dataset\n",
    "class FingerprintDataset(Dataset):\n",
    "    def __init__(self, X, y):\n",
    "        self.X = torch.tensor(X, dtype=torch.float32)\n",
    "        self.y = torch.tensor(y, dtype=torch.long)\n",
    "\n",
    "    def __len__(self):\n",
    "        return len(self.y)\n",
    "\n",
    "    def __getitem__(self, idx):\n",
    "        return self.X[idx].unsqueeze(0), self.y[idx]  # shape: (1, features)\n",
    "\n",
    "train_dataset = FingerprintDataset(X_train, y_train)\n",
    "test_dataset = FingerprintDataset(X_test, y_test)\n",
    "\n",
    "train_loader = DataLoader(train_dataset, batch_size=32, shuffle=True)\n",
    "test_loader = DataLoader(test_dataset, batch_size=32)\n",
    "\n",
    "# STEP 4: 1D CNN model\n",
    "class CNN1D(nn.Module):\n",
    "    def __init__(self, input_length, num_classes):\n",
    "        super(CNN1D, self).__init__()\n",
    "        self.net = nn.Sequential(\n",
    "            nn.Conv1d(1, 16, kernel_size=3, padding=1),\n",
    "            nn.ReLU(),\n",
    "            nn.MaxPool1d(2),\n",
    "            nn.Conv1d(16, 32, kernel_size=3, padding=1),\n",
    "            nn.ReLU(),\n",
    "            nn.AdaptiveMaxPool1d(1),\n",
    "            nn.Flatten(),\n",
    "            nn.Linear(32, num_classes)\n",
    "        )\n",
    "\n",
    "    def forward(self, x):\n",
    "        return self.net(x)\n",
    "\n",
    "# Instantiate model\n",
    "input_length = X.shape[1]\n",
    "num_classes = len(np.unique(y))\n",
    "model = CNN1D(input_length, num_classes)\n",
    "\n",
    "# Loss and optimizer\n",
    "criterion = nn.CrossEntropyLoss()\n",
    "optimizer = optim.Adam(model.parameters(), lr=0.001)\n",
    "\n",
    "# STEP 5: Training loop\n",
    "device = torch.device(\"cuda\" if torch.cuda.is_available() else \"cpu\")\n",
    "model.to(device)\n",
    "\n",
    "for epoch in range(50):\n",
    "    model.train()\n",
    "    total_loss = 0\n",
    "    for X_batch, y_batch in train_loader:\n",
    "        X_batch, y_batch = X_batch.to(device), y_batch.to(device)\n",
    "\n",
    "        optimizer.zero_grad()\n",
    "        outputs = model(X_batch)\n",
    "        loss = criterion(outputs, y_batch)\n",
    "        loss.backward()\n",
    "        optimizer.step()\n",
    "\n",
    "        total_loss += loss.item()\n",
    "\n",
    "    print(f\"Epoch {epoch+1}/50 - Loss: {total_loss:.4f}\")\n",
    "\n",
    "# STEP 6: Evaluation\n",
    "model.eval()\n",
    "all_preds = []\n",
    "all_labels = []\n",
    "\n",
    "with torch.no_grad():\n",
    "    for X_batch, y_batch in test_loader:\n",
    "        X_batch = X_batch.to(device)\n",
    "        outputs = model(X_batch)\n",
    "        preds = torch.argmax(outputs, dim=1).cpu().numpy()\n",
    "        all_preds.extend(preds)\n",
    "        all_labels.extend(y_batch.numpy())\n",
    "\n",
    "# Classification report\n",
    "print(\"\\nClassification Report:\")\n",
    "print(classification_report(all_labels, all_preds, target_names=y_labels))\n"
   ]
  },
  {
   "cell_type": "code",
   "execution_count": 81,
   "id": "ec076c98",
   "metadata": {},
   "outputs": [
    {
     "name": "stdout",
     "output_type": "stream",
     "text": [
      "Model weights saved to: Data/superset/approach_1/model/cnn1d_weights.pth\n"
     ]
    }
   ],
   "source": [
    "# Directory to save model weights\n",
    "import os\n",
    "os.makedirs(\"Data/superset/approach_1/model\", exist_ok=True)\n",
    "\n",
    "# Save model weights (state_dict)\n",
    "model_path = \"Data/superset/approach_1/model/cnn1d_weights.pth\"\n",
    "torch.save(model.state_dict(), model_path)\n",
    "\n",
    "print(f\"Model weights saved to: {model_path}\")\n"
   ]
  },
  {
   "cell_type": "code",
   "execution_count": 83,
   "id": "7370fe63",
   "metadata": {},
   "outputs": [
    {
     "data": {
      "image/png": "[encoded data removed]",
      "text/plain": [
       "<Figure size 600x600 with 1 Axes>"
      ]
     },
     "metadata": {},
     "output_type": "display_data"
    },
    {
     "name": "stdout",
     "output_type": "stream",
     "text": [
      "Classification Report:\n",
      "              precision    recall  f1-score   support\n",
      "\n",
      "      inward       0.99      1.00      1.00       157\n",
      "     outward       1.00      0.99      0.99       100\n",
      "\n",
      "    accuracy                           1.00       257\n",
      "   macro avg       1.00      0.99      1.00       257\n",
      "weighted avg       1.00      1.00      1.00       257\n",
      "\n"
     ]
    }
   ],
   "source": [
    "#Model Diagnostic \n",
    "import matplotlib.pyplot as plt\n",
    "from sklearn.metrics import confusion_matrix, ConfusionMatrixDisplay, classification_report\n",
    "\n",
    "# STEP 1: Confusion Matrix\n",
    "cm = confusion_matrix(all_labels, all_preds)\n",
    "disp = ConfusionMatrixDisplay(confusion_matrix=cm, display_labels=y_labels)\n",
    "\n",
    "fig, ax = plt.subplots(figsize=(6, 6))\n",
    "disp.plot(ax=ax, cmap=\"Blues\", colorbar=False)\n",
    "plt.title(\"Confusion Matrix\")\n",
    "plt.show()\n",
    "\n",
    "# STEP 2: Classification Report\n",
    "print(\"Classification Report:\")\n",
    "print(classification_report(all_labels, all_preds, target_names=y_labels))\n"
   ]
  },
  {
   "cell_type": "markdown",
   "id": "66884359",
   "metadata": {},
   "source": [
    "### Making predictions!\n",
    "\n",
    "now the aim is to load and clean a new data that the model hasn't seen before, then use the the saved model weights to make predictions. the dtug that i will be using is **MDMA** "
   ]
  },
  {
   "cell_type": "code",
   "execution_count": 84,
   "id": "86b37f4d",
   "metadata": {},
   "outputs": [],
   "source": [
    "# Load cleaned MDMA CSV\n",
    "df = pd.read_csv(\"Data/superset/approach_1/cleaned_MDMA.csv\", header=[0, 1])\n",
    "X_mdma = df.loc[:, df.columns.get_level_values(0) != \"meta\"].to_numpy(dtype=np.float32)\n",
    "X_mdma_tensor = torch.tensor(X_mdma).unsqueeze(1)  # shape: (n_samples, 1, features)\n",
    "\n",
    "# Load model and weights\n",
    "model = CNN1D(input_length=X_mdma.shape[1], num_classes=2) # need to chaneg to 3 if we have Occluded\n",
    "model.load_state_dict(torch.load(\"Data/superset/approach_1/model/cnn1d_weights.pth\"))\n",
    "model.eval()\n",
    "\n",
    "# Predict\n",
    "with torch.no_grad():\n",
    "    outputs = model(X_mdma_tensor)\n",
    "    preds = torch.argmax(outputs, dim=1)\n"
   ]
  },
  {
   "cell_type": "code",
   "execution_count": 85,
   "id": "88030d8b",
   "metadata": {},
   "outputs": [
    {
     "name": "stdout",
     "output_type": "stream",
     "text": [
      "Class 0 → 578 frames predicted\n",
      "Class 1 → 163 frames predicted\n"
     ]
    }
   ],
   "source": [
    "# Count predictions per class\n",
    "import numpy as np\n",
    "unique, counts = np.unique(preds.numpy(), return_counts=True)\n",
    "for cls, count in zip(unique, counts):\n",
    "    print(f\"Class {cls} → {count} frames predicted\")\n"
   ]
  },
  {
   "cell_type": "code",
   "execution_count": 86,
   "id": "2cdfbf7d",
   "metadata": {},
   "outputs": [
    {
     "data": {
      "image/png": "[encoded data removed]",
      "text/plain": [
       "<Figure size 640x480 with 1 Axes>"
      ]
     },
     "metadata": {},
     "output_type": "display_data"
    }
   ],
   "source": [
    "import matplotlib.pyplot as plt\n",
    "\n",
    "# Convert to counts\n",
    "plt.bar(unique, counts, tick_label=[f\"Class {i}\" for i in unique])\n",
    "plt.title(\"Predicted Bond Type Distribution for MDMA\")\n",
    "plt.xlabel(\"Class Label\")\n",
    "plt.ylabel(\"Frame Count\")\n",
    "plt.grid(True)\n",
    "plt.show()\n"
   ]
  },
  {
   "cell_type": "code",
   "execution_count": 87,
   "id": "f25b289d",
   "metadata": {},
   "outputs": [
    {
     "name": "stdout",
     "output_type": "stream",
     "text": [
      "inward: 578 frames\n",
      "outward: 163 frames\n"
     ]
    }
   ],
   "source": [
    "label_names = ['inward', 'outward']  # order must match training label encoding\n",
    "for cls, count in zip(unique, counts):\n",
    "    print(f\"{label_names[cls]}: {count} frames\")\n"
   ]
  },
  {
   "cell_type": "markdown",
   "id": "52c3d480",
   "metadata": {},
   "source": [
    "### Why model predicted inward and outward?\n",
    "\n",
    "now it's time to use XAI techniques such as Lime and Shap to undrestand models predictions\n",
    "\n",
    "* LIME: re-assesses the models input features and checks model response to identify most influential residues\n",
    "* SHAP: computes score of each attribution per prediction"
   ]
  },
  {
   "cell_type": "code",
   "execution_count": 78,
   "id": "b74d1250",
   "metadata": {},
   "outputs": [
    {
     "ename": "AssertionError",
     "evalue": "Feature count mismatch in X_mdma",
     "output_type": "error",
     "traceback": [
      "\u001b[1;31m---------------------------------------------------------------------------\u001b[0m",
      "\u001b[1;31mAssertionError\u001b[0m                            Traceback (most recent call last)",
      "Cell \u001b[1;32mIn[78], line 12\u001b[0m\n\u001b[0;32m     10\u001b[0m \u001b[38;5;66;03m# Check shape to avoid IndexError\u001b[39;00m\n\u001b[0;32m     11\u001b[0m \u001b[38;5;28;01massert\u001b[39;00m X_all\u001b[38;5;241m.\u001b[39mshape[\u001b[38;5;241m1\u001b[39m] \u001b[38;5;241m==\u001b[39m \u001b[38;5;28mlen\u001b[39m(real_feature_names), \u001b[38;5;124m\"\u001b[39m\u001b[38;5;124mFeature count mismatch in X_all\u001b[39m\u001b[38;5;124m\"\u001b[39m\n\u001b[1;32m---> 12\u001b[0m \u001b[38;5;28;01massert\u001b[39;00m X_mdma\u001b[38;5;241m.\u001b[39mshape[\u001b[38;5;241m1\u001b[39m] \u001b[38;5;241m==\u001b[39m \u001b[38;5;28mlen\u001b[39m(real_feature_names), \u001b[38;5;124m\"\u001b[39m\u001b[38;5;124mFeature count mismatch in X_mdma\u001b[39m\u001b[38;5;124m\"\u001b[39m\n\u001b[0;32m     14\u001b[0m \u001b[38;5;66;03m# LIME explainer\u001b[39;00m\n\u001b[0;32m     15\u001b[0m explainer \u001b[38;5;241m=\u001b[39m lime_tabular\u001b[38;5;241m.\u001b[39mLimeTabularExplainer(\n\u001b[0;32m     16\u001b[0m     training_data\u001b[38;5;241m=\u001b[39mX_all,\n\u001b[0;32m     17\u001b[0m     feature_names\u001b[38;5;241m=\u001b[39mreal_feature_names,\n\u001b[0;32m     18\u001b[0m     class_names\u001b[38;5;241m=\u001b[39m[\u001b[38;5;124m'\u001b[39m\u001b[38;5;124minward\u001b[39m\u001b[38;5;124m'\u001b[39m, \u001b[38;5;124m'\u001b[39m\u001b[38;5;124moutward\u001b[39m\u001b[38;5;124m'\u001b[39m],  \u001b[38;5;66;03m# Only these two were trained\u001b[39;00m\n\u001b[0;32m     19\u001b[0m     discretize_continuous\u001b[38;5;241m=\u001b[39m\u001b[38;5;28;01mTrue\u001b[39;00m\n\u001b[0;32m     20\u001b[0m )\n",
      "\u001b[1;31mAssertionError\u001b[0m: Feature count mismatch in X_mdma"
     ]
    }
   ],
   "source": [
    "from lime import lime_tabular\n",
    "import pandas as pd\n",
    "import torch\n",
    "import numpy as np\n",
    "\n",
    "# Load cleaned AMP (training reference) CSV to get consistent feature names\n",
    "df_train = pd.read_csv(\"Data/superset/approach_1/cleaned_AMP.csv\", header=[0, 1])\n",
    "real_feature_names = [f\"{a} ({b})\" for a, b in df_train.columns if a != \"meta\"]\n",
    "\n",
    "# Check shape to avoid IndexError\n",
    "assert X_all.shape[1] == len(real_feature_names), \"Feature count mismatch in X_all\"\n",
    "assert X_mdma.shape[1] == len(real_feature_names), \"Feature count mismatch in X_mdma\"\n",
    "\n",
    "# LIME explainer\n",
    "explainer = lime_tabular.LimeTabularExplainer(\n",
    "    training_data=X_all,\n",
    "    feature_names=real_feature_names,\n",
    "    class_names=['inward', 'outward'],  # Only these two were trained\n",
    "    discretize_continuous=True\n",
    ")\n",
    "\n",
    "# Wrapper for prediction\n",
    "def predict_proba_fn(x):\n",
    "    x_tensor = torch.tensor(x).unsqueeze(1).float()  # (batch, 1, features)\n",
    "    with torch.no_grad():\n",
    "        logits = model(x_tensor)\n",
    "        probs = torch.softmax(logits, dim=1)\n",
    "    return probs.cpu().numpy()\n"
   ]
  },
  {
   "cell_type": "code",
   "execution_count": 77,
   "id": "be94466d",
   "metadata": {},
   "outputs": [
    {
     "ename": "IndexError",
     "evalue": "index 44 is out of bounds for axis 0 with size 44",
     "output_type": "error",
     "traceback": [
      "\u001b[1;31m---------------------------------------------------------------------------\u001b[0m",
      "\u001b[1;31mIndexError\u001b[0m                                Traceback (most recent call last)",
      "Cell \u001b[1;32mIn[77], line 3\u001b[0m\n\u001b[0;32m      1\u001b[0m \u001b[38;5;66;03m# Choose an index from MDMA\u001b[39;00m\n\u001b[0;32m      2\u001b[0m i \u001b[38;5;241m=\u001b[39m \u001b[38;5;241m42\u001b[39m\n\u001b[1;32m----> 3\u001b[0m explanation \u001b[38;5;241m=\u001b[39m \u001b[43mexplainer\u001b[49m\u001b[38;5;241;43m.\u001b[39;49m\u001b[43mexplain_instance\u001b[49m\u001b[43m(\u001b[49m\u001b[43mX_mdma\u001b[49m\u001b[43m[\u001b[49m\u001b[43mi\u001b[49m\u001b[43m]\u001b[49m\u001b[38;5;241;43m.\u001b[39;49m\u001b[43mravel\u001b[49m\u001b[43m(\u001b[49m\u001b[43m)\u001b[49m\u001b[43m,\u001b[49m\u001b[43m \u001b[49m\u001b[43mpredict_proba_fn\u001b[49m\u001b[43m)\u001b[49m\n\u001b[0;32m      4\u001b[0m explanation\u001b[38;5;241m.\u001b[39mshow_in_notebook()\n",
      "File \u001b[1;32mc:\\Users\\amirt\\OneDrive\\Desktop\\RA work\\Code\\god\\lib\\site-packages\\lime\\lime_tabular.py:340\u001b[0m, in \u001b[0;36mLimeTabularExplainer.explain_instance\u001b[1;34m(self, data_row, predict_fn, labels, top_labels, num_features, num_samples, distance_metric, model_regressor)\u001b[0m\n\u001b[0;32m    337\u001b[0m \u001b[38;5;28;01mif\u001b[39;00m sp\u001b[38;5;241m.\u001b[39msparse\u001b[38;5;241m.\u001b[39missparse(data_row) \u001b[38;5;129;01mand\u001b[39;00m \u001b[38;5;129;01mnot\u001b[39;00m sp\u001b[38;5;241m.\u001b[39msparse\u001b[38;5;241m.\u001b[39misspmatrix_csr(data_row):\n\u001b[0;32m    338\u001b[0m     \u001b[38;5;66;03m# Preventative code: if sparse, convert to csr format if not in csr format already\u001b[39;00m\n\u001b[0;32m    339\u001b[0m     data_row \u001b[38;5;241m=\u001b[39m data_row\u001b[38;5;241m.\u001b[39mtocsr()\n\u001b[1;32m--> 340\u001b[0m data, inverse \u001b[38;5;241m=\u001b[39m \u001b[38;5;28;43mself\u001b[39;49m\u001b[38;5;241;43m.\u001b[39;49m\u001b[43m__data_inverse\u001b[49m\u001b[43m(\u001b[49m\u001b[43mdata_row\u001b[49m\u001b[43m,\u001b[49m\u001b[43m \u001b[49m\u001b[43mnum_samples\u001b[49m\u001b[43m)\u001b[49m\n\u001b[0;32m    341\u001b[0m \u001b[38;5;28;01mif\u001b[39;00m sp\u001b[38;5;241m.\u001b[39msparse\u001b[38;5;241m.\u001b[39missparse(data):\n\u001b[0;32m    342\u001b[0m     \u001b[38;5;66;03m# Note in sparse case we don't subtract mean since data would become dense\u001b[39;00m\n\u001b[0;32m    343\u001b[0m     scaled_data \u001b[38;5;241m=\u001b[39m data\u001b[38;5;241m.\u001b[39mmultiply(\u001b[38;5;28mself\u001b[39m\u001b[38;5;241m.\u001b[39mscaler\u001b[38;5;241m.\u001b[39mscale_)\n",
      "File \u001b[1;32mc:\\Users\\amirt\\OneDrive\\Desktop\\RA work\\Code\\god\\lib\\site-packages\\lime\\lime_tabular.py:536\u001b[0m, in \u001b[0;36mLimeTabularExplainer.__data_inverse\u001b[1;34m(self, data_row, num_samples)\u001b[0m\n\u001b[0;32m    534\u001b[0m     first_row \u001b[38;5;241m=\u001b[39m data_row\n\u001b[0;32m    535\u001b[0m \u001b[38;5;28;01melse\u001b[39;00m:\n\u001b[1;32m--> 536\u001b[0m     first_row \u001b[38;5;241m=\u001b[39m \u001b[38;5;28;43mself\u001b[39;49m\u001b[38;5;241;43m.\u001b[39;49m\u001b[43mdiscretizer\u001b[49m\u001b[38;5;241;43m.\u001b[39;49m\u001b[43mdiscretize\u001b[49m\u001b[43m(\u001b[49m\u001b[43mdata_row\u001b[49m\u001b[43m)\u001b[49m\n\u001b[0;32m    537\u001b[0m data[\u001b[38;5;241m0\u001b[39m] \u001b[38;5;241m=\u001b[39m data_row\u001b[38;5;241m.\u001b[39mcopy()\n\u001b[0;32m    538\u001b[0m inverse \u001b[38;5;241m=\u001b[39m data\u001b[38;5;241m.\u001b[39mcopy()\n",
      "File \u001b[1;32mc:\\Users\\amirt\\OneDrive\\Desktop\\RA work\\Code\\god\\lib\\site-packages\\lime\\discretize.py:110\u001b[0m, in \u001b[0;36mBaseDiscretizer.discretize\u001b[1;34m(self, data)\u001b[0m\n\u001b[0;32m    108\u001b[0m \u001b[38;5;28;01mfor\u001b[39;00m feature \u001b[38;5;129;01min\u001b[39;00m \u001b[38;5;28mself\u001b[39m\u001b[38;5;241m.\u001b[39mlambdas:\n\u001b[0;32m    109\u001b[0m     \u001b[38;5;28;01mif\u001b[39;00m \u001b[38;5;28mlen\u001b[39m(data\u001b[38;5;241m.\u001b[39mshape) \u001b[38;5;241m==\u001b[39m \u001b[38;5;241m1\u001b[39m:\n\u001b[1;32m--> 110\u001b[0m         ret[feature] \u001b[38;5;241m=\u001b[39m \u001b[38;5;28mint\u001b[39m(\u001b[38;5;28mself\u001b[39m\u001b[38;5;241m.\u001b[39mlambdas[feature](\u001b[43mret\u001b[49m\u001b[43m[\u001b[49m\u001b[43mfeature\u001b[49m\u001b[43m]\u001b[49m))\n\u001b[0;32m    111\u001b[0m     \u001b[38;5;28;01melse\u001b[39;00m:\n\u001b[0;32m    112\u001b[0m         ret[:, feature] \u001b[38;5;241m=\u001b[39m \u001b[38;5;28mself\u001b[39m\u001b[38;5;241m.\u001b[39mlambdas[feature](\n\u001b[0;32m    113\u001b[0m             ret[:, feature])\u001b[38;5;241m.\u001b[39mastype(\u001b[38;5;28mint\u001b[39m)\n",
      "\u001b[1;31mIndexError\u001b[0m: index 44 is out of bounds for axis 0 with size 44"
     ]
    }
   ],
   "source": [
    "# Choose an index from MDMA\n",
    "i = 42\n",
    "explanation = explainer.explain_instance(X_mdma[i].ravel(), predict_proba_fn)\n",
    "explanation.show_in_notebook()"
   ]
  },
  {
   "cell_type": "code",
   "execution_count": 73,
   "id": "dd6f723c",
   "metadata": {},
   "outputs": [
    {
     "data": {
      "image/png": "[encoded data removed]",
      "text/plain": [
       "<Figure size 640x480 with 1 Axes>"
      ]
     },
     "metadata": {},
     "output_type": "display_data"
    }
   ],
   "source": [
    "fig = explanation.as_pyplot_figure()\n",
    "fig.patch.set_facecolor('white')  \n",
    "plt.show()\n"
   ]
  },
  {
   "cell_type": "markdown",
   "id": "5b591955",
   "metadata": {},
   "source": [
    "### SHAP"
   ]
  },
  {
   "cell_type": "code",
   "execution_count": 79,
   "id": "cbb13473",
   "metadata": {},
   "outputs": [
    {
     "ename": "RuntimeError",
     "evalue": "Sizes of tensors must match except in dimension 0. Expected size 44 but got size 46 for tensor number 1 in the list.",
     "output_type": "error",
     "traceback": [
      "\u001b[1;31m---------------------------------------------------------------------------\u001b[0m",
      "\u001b[1;31mRuntimeError\u001b[0m                              Traceback (most recent call last)",
      "Cell \u001b[1;32mIn[79], line 25\u001b[0m\n\u001b[0;32m     23\u001b[0m \u001b[38;5;66;03m# Pick a frame index from MDMA to explain\u001b[39;00m\n\u001b[0;32m     24\u001b[0m i \u001b[38;5;241m=\u001b[39m \u001b[38;5;241m42\u001b[39m  \u001b[38;5;66;03m# or any frame index\u001b[39;00m\n\u001b[1;32m---> 25\u001b[0m shap_values \u001b[38;5;241m=\u001b[39m \u001b[43mexplainer\u001b[49m\u001b[38;5;241;43m.\u001b[39;49m\u001b[43mshap_values\u001b[49m\u001b[43m(\u001b[49m\u001b[43mmdma_tensor\u001b[49m\u001b[43m[\u001b[49m\u001b[43mi\u001b[49m\u001b[43m:\u001b[49m\u001b[43mi\u001b[49m\u001b[38;5;241;43m+\u001b[39;49m\u001b[38;5;241;43m1\u001b[39;49m\u001b[43m]\u001b[49m\u001b[43m,\u001b[49m\u001b[43m \u001b[49m\u001b[43mcheck_additivity\u001b[49m\u001b[38;5;241;43m=\u001b[39;49m\u001b[38;5;28;43;01mFalse\u001b[39;49;00m\u001b[43m)\u001b[49m\n\u001b[0;32m     27\u001b[0m \u001b[38;5;66;03m# Get predicted class index\u001b[39;00m\n\u001b[0;32m     28\u001b[0m pred_class \u001b[38;5;241m=\u001b[39m torch\u001b[38;5;241m.\u001b[39margmax(model(mdma_tensor[i:i\u001b[38;5;241m+\u001b[39m\u001b[38;5;241m1\u001b[39m]))\u001b[38;5;241m.\u001b[39mitem()\n",
      "File \u001b[1;32mc:\\Users\\amirt\\OneDrive\\Desktop\\RA work\\Code\\god\\lib\\site-packages\\shap\\explainers\\_deep\\__init__.py:164\u001b[0m, in \u001b[0;36mDeepExplainer.shap_values\u001b[1;34m(self, X, ranked_outputs, output_rank_order, check_additivity)\u001b[0m\n\u001b[0;32m    120\u001b[0m \u001b[38;5;28;01mdef\u001b[39;00m\u001b[38;5;250m \u001b[39m\u001b[38;5;21mshap_values\u001b[39m(\u001b[38;5;28mself\u001b[39m, X, ranked_outputs\u001b[38;5;241m=\u001b[39m\u001b[38;5;28;01mNone\u001b[39;00m, output_rank_order\u001b[38;5;241m=\u001b[39m\u001b[38;5;124m\"\u001b[39m\u001b[38;5;124mmax\u001b[39m\u001b[38;5;124m\"\u001b[39m, check_additivity\u001b[38;5;241m=\u001b[39m\u001b[38;5;28;01mTrue\u001b[39;00m):\n\u001b[0;32m    121\u001b[0m \u001b[38;5;250m    \u001b[39m\u001b[38;5;124;03m\"\"\"Return approximate SHAP values for the model applied to the data given by X.\u001b[39;00m\n\u001b[0;32m    122\u001b[0m \n\u001b[0;32m    123\u001b[0m \u001b[38;5;124;03m    Parameters\u001b[39;00m\n\u001b[1;32m   (...)\u001b[0m\n\u001b[0;32m    162\u001b[0m \n\u001b[0;32m    163\u001b[0m \u001b[38;5;124;03m    \"\"\"\u001b[39;00m\n\u001b[1;32m--> 164\u001b[0m     \u001b[38;5;28;01mreturn\u001b[39;00m \u001b[38;5;28;43mself\u001b[39;49m\u001b[38;5;241;43m.\u001b[39;49m\u001b[43mexplainer\u001b[49m\u001b[38;5;241;43m.\u001b[39;49m\u001b[43mshap_values\u001b[49m\u001b[43m(\u001b[49m\u001b[43mX\u001b[49m\u001b[43m,\u001b[49m\u001b[43m \u001b[49m\u001b[43mranked_outputs\u001b[49m\u001b[43m,\u001b[49m\u001b[43m \u001b[49m\u001b[43moutput_rank_order\u001b[49m\u001b[43m,\u001b[49m\u001b[43m \u001b[49m\u001b[43mcheck_additivity\u001b[49m\u001b[38;5;241;43m=\u001b[39;49m\u001b[43mcheck_additivity\u001b[49m\u001b[43m)\u001b[49m\n",
      "File \u001b[1;32mc:\\Users\\amirt\\OneDrive\\Desktop\\RA work\\Code\\god\\lib\\site-packages\\shap\\explainers\\_deep\\deep_pytorch.py:186\u001b[0m, in \u001b[0;36mPyTorchDeep.shap_values\u001b[1;34m(self, X, ranked_outputs, output_rank_order, check_additivity)\u001b[0m\n\u001b[0;32m    180\u001b[0m \u001b[38;5;28;01mfor\u001b[39;00m j \u001b[38;5;129;01min\u001b[39;00m \u001b[38;5;28mrange\u001b[39m(X[\u001b[38;5;241m0\u001b[39m]\u001b[38;5;241m.\u001b[39mshape[\u001b[38;5;241m0\u001b[39m]):\n\u001b[0;32m    181\u001b[0m     \u001b[38;5;66;03m# tile the inputs to line up with the background data samples\u001b[39;00m\n\u001b[0;32m    182\u001b[0m     tiled_X \u001b[38;5;241m=\u001b[39m [\n\u001b[0;32m    183\u001b[0m         X[t][j : j \u001b[38;5;241m+\u001b[39m \u001b[38;5;241m1\u001b[39m]\u001b[38;5;241m.\u001b[39mrepeat((\u001b[38;5;28mself\u001b[39m\u001b[38;5;241m.\u001b[39mdata[t]\u001b[38;5;241m.\u001b[39mshape[\u001b[38;5;241m0\u001b[39m],) \u001b[38;5;241m+\u001b[39m \u001b[38;5;28mtuple\u001b[39m([\u001b[38;5;241m1\u001b[39m \u001b[38;5;28;01mfor\u001b[39;00m k \u001b[38;5;129;01min\u001b[39;00m \u001b[38;5;28mrange\u001b[39m(\u001b[38;5;28mlen\u001b[39m(X[t]\u001b[38;5;241m.\u001b[39mshape) \u001b[38;5;241m-\u001b[39m \u001b[38;5;241m1\u001b[39m)]))\n\u001b[0;32m    184\u001b[0m         \u001b[38;5;28;01mfor\u001b[39;00m t \u001b[38;5;129;01min\u001b[39;00m \u001b[38;5;28mrange\u001b[39m(\u001b[38;5;28mlen\u001b[39m(X))\n\u001b[0;32m    185\u001b[0m     ]\n\u001b[1;32m--> 186\u001b[0m     joint_x \u001b[38;5;241m=\u001b[39m [torch\u001b[38;5;241m.\u001b[39mcat((tiled_X[t], \u001b[38;5;28mself\u001b[39m\u001b[38;5;241m.\u001b[39mdata[t]), dim\u001b[38;5;241m=\u001b[39m\u001b[38;5;241m0\u001b[39m) \u001b[38;5;28;01mfor\u001b[39;00m t \u001b[38;5;129;01min\u001b[39;00m \u001b[38;5;28mrange\u001b[39m(\u001b[38;5;28mlen\u001b[39m(X))]\n\u001b[0;32m    187\u001b[0m     \u001b[38;5;66;03m# run attribution computation graph\u001b[39;00m\n\u001b[0;32m    188\u001b[0m     feature_ind \u001b[38;5;241m=\u001b[39m model_output_ranks[j, i]\n",
      "File \u001b[1;32mc:\\Users\\amirt\\OneDrive\\Desktop\\RA work\\Code\\god\\lib\\site-packages\\shap\\explainers\\_deep\\deep_pytorch.py:186\u001b[0m, in \u001b[0;36m<listcomp>\u001b[1;34m(.0)\u001b[0m\n\u001b[0;32m    180\u001b[0m \u001b[38;5;28;01mfor\u001b[39;00m j \u001b[38;5;129;01min\u001b[39;00m \u001b[38;5;28mrange\u001b[39m(X[\u001b[38;5;241m0\u001b[39m]\u001b[38;5;241m.\u001b[39mshape[\u001b[38;5;241m0\u001b[39m]):\n\u001b[0;32m    181\u001b[0m     \u001b[38;5;66;03m# tile the inputs to line up with the background data samples\u001b[39;00m\n\u001b[0;32m    182\u001b[0m     tiled_X \u001b[38;5;241m=\u001b[39m [\n\u001b[0;32m    183\u001b[0m         X[t][j : j \u001b[38;5;241m+\u001b[39m \u001b[38;5;241m1\u001b[39m]\u001b[38;5;241m.\u001b[39mrepeat((\u001b[38;5;28mself\u001b[39m\u001b[38;5;241m.\u001b[39mdata[t]\u001b[38;5;241m.\u001b[39mshape[\u001b[38;5;241m0\u001b[39m],) \u001b[38;5;241m+\u001b[39m \u001b[38;5;28mtuple\u001b[39m([\u001b[38;5;241m1\u001b[39m \u001b[38;5;28;01mfor\u001b[39;00m k \u001b[38;5;129;01min\u001b[39;00m \u001b[38;5;28mrange\u001b[39m(\u001b[38;5;28mlen\u001b[39m(X[t]\u001b[38;5;241m.\u001b[39mshape) \u001b[38;5;241m-\u001b[39m \u001b[38;5;241m1\u001b[39m)]))\n\u001b[0;32m    184\u001b[0m         \u001b[38;5;28;01mfor\u001b[39;00m t \u001b[38;5;129;01min\u001b[39;00m \u001b[38;5;28mrange\u001b[39m(\u001b[38;5;28mlen\u001b[39m(X))\n\u001b[0;32m    185\u001b[0m     ]\n\u001b[1;32m--> 186\u001b[0m     joint_x \u001b[38;5;241m=\u001b[39m [\u001b[43mtorch\u001b[49m\u001b[38;5;241;43m.\u001b[39;49m\u001b[43mcat\u001b[49m\u001b[43m(\u001b[49m\u001b[43m(\u001b[49m\u001b[43mtiled_X\u001b[49m\u001b[43m[\u001b[49m\u001b[43mt\u001b[49m\u001b[43m]\u001b[49m\u001b[43m,\u001b[49m\u001b[43m \u001b[49m\u001b[38;5;28;43mself\u001b[39;49m\u001b[38;5;241;43m.\u001b[39;49m\u001b[43mdata\u001b[49m\u001b[43m[\u001b[49m\u001b[43mt\u001b[49m\u001b[43m]\u001b[49m\u001b[43m)\u001b[49m\u001b[43m,\u001b[49m\u001b[43m \u001b[49m\u001b[43mdim\u001b[49m\u001b[38;5;241;43m=\u001b[39;49m\u001b[38;5;241;43m0\u001b[39;49m\u001b[43m)\u001b[49m \u001b[38;5;28;01mfor\u001b[39;00m t \u001b[38;5;129;01min\u001b[39;00m \u001b[38;5;28mrange\u001b[39m(\u001b[38;5;28mlen\u001b[39m(X))]\n\u001b[0;32m    187\u001b[0m     \u001b[38;5;66;03m# run attribution computation graph\u001b[39;00m\n\u001b[0;32m    188\u001b[0m     feature_ind \u001b[38;5;241m=\u001b[39m model_output_ranks[j, i]\n",
      "\u001b[1;31mRuntimeError\u001b[0m: Sizes of tensors must match except in dimension 0. Expected size 44 but got size 46 for tensor number 1 in the list."
     ]
    }
   ],
   "source": [
    "import shap\n",
    "import torch\n",
    "import numpy as np\n",
    "import pandas as pd\n",
    "import matplotlib.pyplot as plt\n",
    "\n",
    "# Load cleaned training CSV to get correct feature names\n",
    "df_train = pd.read_csv(\"Data/superset/approach_1/cleaned_AMP.csv\", header=[0, 1])\n",
    "real_feature_names = [f\"{a} ({b})\" for a, b in df_train.columns if a != \"meta\"]\n",
    "\n",
    "# Prepare background from training data\n",
    "background = torch.tensor(X_all[:200]).unsqueeze(1).float()  # (100, 1, features)\n",
    "\n",
    "# Prepare MDMA sample(s) to explain\n",
    "mdma_tensor = torch.tensor(X_mdma).unsqueeze(1).float()  # (n_samples, 1, features)\n",
    "\n",
    "# Ensure model is in eval mode\n",
    "model.eval()\n",
    "\n",
    "# Create SHAP DeepExplainer with PyTorch model\n",
    "explainer = shap.DeepExplainer(model, background)\n",
    "\n",
    "# Pick a frame index from MDMA to explain\n",
    "i = 42  # or any frame index\n",
    "shap_values = explainer.shap_values(mdma_tensor[i:i+1], check_additivity=False)\n",
    "\n",
    "# Get predicted class index\n",
    "pred_class = torch.argmax(model(mdma_tensor[i:i+1])).item()\n",
    "\n",
    "# Flatten SHAP values if needed (e.g. shape is (44, 2))\n",
    "shap_vector = shap_values[pred_class][0]\n",
    "if shap_vector.ndim == 2 and shap_vector.shape[1] == 2:\n",
    "    shap_vector = shap_vector.sum(axis=1)\n",
    "\n",
    "# Create a SHAP Explanation object\n",
    "explanation_obj = shap.Explanation(\n",
    "    values=shap_vector,\n",
    "    base_values=explainer.expected_value[pred_class],\n",
    "    data=X_mdma[i],\n",
    "    feature_names=real_feature_names\n",
    ")\n",
    "\n",
    "# Modern SHAP plot (clean, readable)\n",
    "shap.plots.waterfall(explanation_obj)\n"
   ]
  },
  {
   "cell_type": "markdown",
   "id": "cd2172ab",
   "metadata": {},
   "source": [
    "## Method 2:"
   ]
  }
 ],
 "metadata": {
  "kernelspec": {
   "display_name": "god",
   "language": "python",
   "name": "python3"
  },
  "language_info": {
   "codemirror_mode": {
    "name": "ipython",
    "version": 3
   },
   "file_extension": ".py",
   "mimetype": "text/x-python",
   "name": "python",
   "nbconvert_exporter": "python",
   "pygments_lexer": "ipython3",
   "version": "3.10.5"
  }
 },
 "nbformat": 4,
 "nbformat_minor": 5
}
