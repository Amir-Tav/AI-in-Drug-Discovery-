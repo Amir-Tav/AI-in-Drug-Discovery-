{
 "cells": [
  {
   "cell_type": "markdown",
   "id": "7c0143cb",
   "metadata": {},
   "source": [
    "### this function can be used to compare the differences between NPY format files "
   ]
  },
  {
   "cell_type": "code",
   "execution_count": 3,
   "id": "08e0487b",
   "metadata": {},
   "outputs": [
    {
     "name": "stdout",
     "output_type": "stream",
     "text": [
      "File 1: Data/New/AMP/npy/AMP_frame_211.npy\n",
      "{'type': 'dict', 'keys': ['binary_array', 'residue_labels', 'interaction_labels'], 'binary_array_shape': (7, 17), 'residue_labels_count': 17, 'interaction_labels_count': 7, 'preview_binary': array([[0, 0, 0, 0, 0],\n",
      "       [1, 0, 0, 0, 0],\n",
      "       [0, 0, 0, 0, 0]], dtype=uint8)}\n",
      "\n",
      " File 2: Data/New/AMP/npy/AMP_frame_388.npy\n",
      "{'type': 'dict', 'keys': ['binary_array', 'residue_labels', 'interaction_labels'], 'binary_array_shape': (7, 15), 'residue_labels_count': 15, 'interaction_labels_count': 7, 'preview_binary': array([[0, 0, 0, 0, 0],\n",
      "       [1, 0, 0, 0, 0],\n",
      "       [0, 0, 0, 0, 0]], dtype=uint8)}\n"
     ]
    }
   ],
   "source": [
    "import numpy as np\n",
    "\n",
    "# Update these paths if needed\n",
    "file1_path = \"Data/New/AMP/npy/AMP_frame_211.npy\"              # new data\n",
    "file2_path = \"Data/New/AMP/npy/AMP_frame_388.npy\"   # old data\n",
    "\n",
    "def analyze_npy(file_path):\n",
    "    try:\n",
    "        data = np.load(file_path, allow_pickle=True)\n",
    "        if isinstance(data.item(), dict):\n",
    "            data = data.item()\n",
    "            return {\n",
    "                \"type\": \"dict\",\n",
    "                \"keys\": list(data.keys()),\n",
    "                \"binary_array_shape\": data[\"binary_array\"].shape,\n",
    "                \"residue_labels_count\": len(data[\"residue_labels\"]),\n",
    "                \"interaction_labels_count\": len(data[\"interaction_labels\"]),\n",
    "                \"preview_binary\": data[\"binary_array\"][:3, :5]\n",
    "            }\n",
    "        else:\n",
    "            return {\n",
    "                \"type\": \"raw ndarray\",\n",
    "                \"shape\": data.shape,\n",
    "                \"dtype\": data.dtype,\n",
    "                \"preview\": data[:3, :5] if data.ndim == 2 else data.flat[:10]\n",
    "            }\n",
    "    except Exception as e:\n",
    "        return {\"error\": str(e)}\n",
    "\n",
    "# Run comparison\n",
    "file1_info = analyze_npy(file1_path)\n",
    "file2_info = analyze_npy(file2_path)\n",
    "\n",
    "# Print results\n",
    "print(\"File 1:\", file1_path)\n",
    "print(file1_info)\n",
    "print(\"\\n File 2:\", file2_path)\n",
    "print(file2_info)"
   ]
  }
 ],
 "metadata": {
  "kernelspec": {
   "display_name": "god",
   "language": "python",
   "name": "python3"
  },
  "language_info": {
   "codemirror_mode": {
    "name": "ipython",
    "version": 3
   },
   "file_extension": ".py",
   "mimetype": "text/x-python",
   "name": "python",
   "nbconvert_exporter": "python",
   "pygments_lexer": "ipython3",
   "version": "3.10.5"
  }
 },
 "nbformat": 4,
 "nbformat_minor": 5
}
