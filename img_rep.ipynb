{
 "cells": [
  {
   "cell_type": "markdown",
   "id": "c063bcc9",
   "metadata": {},
   "source": [
    "### creating Image representation"
   ]
  },
  {
   "cell_type": "code",
   "execution_count": 5,
   "id": "c8548c90",
   "metadata": {},
   "outputs": [
    {
     "name": "stdout",
     "output_type": "stream",
     "text": [
      "Collecting pandas\n",
      "  Downloading pandas-2.3.0-cp310-cp310-win_amd64.whl (11.1 MB)\n",
      "     ---------------------------------------- 11.1/11.1 MB 9.0 MB/s eta 0:00:00\n",
      "Collecting numpy\n",
      "  Downloading numpy-2.2.6-cp310-cp310-win_amd64.whl (12.9 MB)\n",
      "     ---------------------------------------- 12.9/12.9 MB 9.2 MB/s eta 0:00:00\n",
      "Collecting matplotlib\n",
      "  Downloading matplotlib-3.10.3-cp310-cp310-win_amd64.whl (8.1 MB)\n",
      "     ---------------------------------------- 8.1/8.1 MB 5.5 MB/s eta 0:00:00\n",
      "Requirement already satisfied: python-dateutil>=2.8.2 in c:\\users\\amirt\\onedrive\\desktop\\ra work\\code\\god\\lib\\site-packages (from pandas) (2.9.0.post0)\n",
      "Collecting pytz>=2020.1\n",
      "  Downloading pytz-2025.2-py2.py3-none-any.whl (509 kB)\n",
      "     -------------------------------------- 509.2/509.2 KB 6.3 MB/s eta 0:00:00\n",
      "Collecting tzdata>=2022.7\n",
      "  Using cached tzdata-2025.2-py2.py3-none-any.whl (347 kB)\n",
      "Collecting pyparsing>=2.3.1\n",
      "  Downloading pyparsing-3.2.3-py3-none-any.whl (111 kB)\n",
      "     -------------------------------------- 111.1/111.1 KB 6.3 MB/s eta 0:00:00\n",
      "Collecting cycler>=0.10\n",
      "  Using cached cycler-0.12.1-py3-none-any.whl (8.3 kB)\n",
      "Collecting pillow>=8\n",
      "  Downloading pillow-11.2.1-cp310-cp310-win_amd64.whl (2.7 MB)\n",
      "     ---------------------------------------- 2.7/2.7 MB 11.3 MB/s eta 0:00:00\n",
      "Requirement already satisfied: packaging>=20.0 in c:\\users\\amirt\\onedrive\\desktop\\ra work\\code\\god\\lib\\site-packages (from matplotlib) (25.0)\n",
      "Collecting contourpy>=1.0.1\n",
      "  Downloading contourpy-1.3.2-cp310-cp310-win_amd64.whl (221 kB)\n",
      "     ------------------------------------- 221.2/221.2 KB 13.2 MB/s eta 0:00:00\n",
      "Collecting kiwisolver>=1.3.1\n",
      "  Using cached kiwisolver-1.4.8-cp310-cp310-win_amd64.whl (71 kB)\n",
      "Collecting fonttools>=4.22.0\n",
      "  Downloading fonttools-4.58.4-cp310-cp310-win_amd64.whl (2.2 MB)\n",
      "     ---------------------------------------- 2.2/2.2 MB 11.0 MB/s eta 0:00:00\n",
      "Requirement already satisfied: six>=1.5 in c:\\users\\amirt\\onedrive\\desktop\\ra work\\code\\god\\lib\\site-packages (from python-dateutil>=2.8.2->pandas) (1.17.0)\n",
      "Installing collected packages: pytz, tzdata, pyparsing, pillow, numpy, kiwisolver, fonttools, cycler, pandas, contourpy, matplotlib\n",
      "Successfully installed contourpy-1.3.2 cycler-0.12.1 fonttools-4.58.4 kiwisolver-1.4.8 matplotlib-3.10.3 numpy-2.2.6 pandas-2.3.0 pillow-11.2.1 pyparsing-3.2.3 pytz-2025.2 tzdata-2025.2\n",
      "Note: you may need to restart the kernel to use updated packages.\n"
     ]
    },
    {
     "name": "stderr",
     "output_type": "stream",
     "text": [
      "WARNING: You are using pip version 22.0.4; however, version 25.1.1 is available.\n",
      "You should consider upgrading via the 'c:\\Users\\amirt\\OneDrive\\Desktop\\RA work\\Code\\god\\Scripts\\python.exe -m pip install --upgrade pip' command.\n"
     ]
    }
   ],
   "source": [
    "%pip install pandas numpy matplotlib"
   ]
  },
  {
   "cell_type": "code",
   "execution_count": 6,
   "id": "4c5c1d3b",
   "metadata": {},
   "outputs": [],
   "source": [
    "# setting up the input path \n",
    "import pandas as pd\n",
    "import numpy as np\n",
    "import matplotlib.pyplot as plt\n",
    "import os\n",
    "import random\n",
    "from pathlib import Path\n",
    "\n",
    "# Set up output directory\n",
    "output_dir = Path(\"Data/New/AMP\")\n",
    "# Load the dataset\n",
    "df = pd.read_csv(\"Data\\Tuned\\AMP.csv\")\n"
   ]
  },
  {
   "cell_type": "code",
   "execution_count": 7,
   "id": "4094edfc",
   "metadata": {},
   "outputs": [],
   "source": [
    "# Extract residue and interaction info\n",
    "interaction_columns = df.columns[1:]\n",
    "residue_info = [\n",
    "    col.split('.') for col in interaction_columns\n",
    "]  # e.g., ['ASP79', 'P', 'Cationic']\n",
    "residues = [r[0] for r in residue_info]\n",
    "interaction_types = [r[2] for r in residue_info]"
   ]
  },
  {
   "cell_type": "code",
   "execution_count": 12,
   "id": "3ae4dbfe",
   "metadata": {},
   "outputs": [],
   "source": [
    "#Randomly Select 200 Frames\n",
    "selected_frames = df['Frame'].sample(n=50, random_state=42).values\n",
    "selected_df = df[df['Frame'].isin(selected_frames)].sort_values(\"Frame\").reset_index(drop=True)"
   ]
  },
  {
   "cell_type": "code",
   "execution_count": 13,
   "id": "cfc8081b",
   "metadata": {},
   "outputs": [
    {
     "name": "stdout",
     "output_type": "stream",
     "text": [
      "✅ Saved 200 heatmaps and metadata-enhanced .npy files in: Data\\New\\AMP\n"
     ]
    }
   ],
   "source": [
    "# Define interaction and residue layout\n",
    "unique_interactions = sorted(set(interaction_types))\n",
    "interaction_to_row = {itype: idx for idx, itype in enumerate(unique_interactions)}\n",
    "num_rows = len(unique_interactions)\n",
    "num_cols = len(interaction_columns)\n",
    "\n",
    "# For reverse lookup if needed later\n",
    "residue_labels = [col.split('.')[0] for col in interaction_columns]\n",
    "interaction_labels = [col.split('.')[-1] for col in interaction_columns]\n",
    "\n",
    "def save_heatmap_and_npy(row, frame_index, save_dir):\n",
    "    # Create binary matrix (interaction_type x residue)\n",
    "    binary_array = np.zeros((num_rows, num_cols), dtype=np.uint8)\n",
    "    for col_idx, col in enumerate(interaction_columns):\n",
    "        interaction = col.split('.')[-1]\n",
    "        row_idx = interaction_to_row[interaction]\n",
    "        binary_array[row_idx, col_idx] = row[col]\n",
    "\n",
    "    # Save heatmap-style image (no labels)\n",
    "    plt.figure(figsize=(8, 6))\n",
    "    plt.imshow(binary_array, cmap='plasma', aspect='auto')\n",
    "    plt.axis('off')\n",
    "    plt.title(f\"AMP_frame_{frame_index}.npy\")\n",
    "    plt.tight_layout()\n",
    "    plt.savefig(save_dir / f\"AMP_frame_{frame_index}.png\", dpi=150)\n",
    "    plt.close()\n",
    "\n",
    "    # Save metadata-enhanced npy file\n",
    "    output = {\n",
    "        \"binary_array\": binary_array,\n",
    "        \"residue_labels\": residue_labels,\n",
    "        \"interaction_labels\": unique_interactions\n",
    "    }\n",
    "    np.save(save_dir / f\"AMP_frame_{frame_index}.npy\", output)\n",
    "\n",
    "# Run for all 200 selected frames\n",
    "for idx, row in selected_df.iterrows():\n",
    "    save_heatmap_and_npy(row, idx, output_dir)\n",
    "\n",
    "print(f\"✅ Saved 200 heatmaps and metadata-enhanced .npy files in: {output_dir}\")\n"
   ]
  }
 ],
 "metadata": {
  "kernelspec": {
   "display_name": "god",
   "language": "python",
   "name": "python3"
  },
  "language_info": {
   "codemirror_mode": {
    "name": "ipython",
    "version": 3
   },
   "file_extension": ".py",
   "mimetype": "text/x-python",
   "name": "python",
   "nbconvert_exporter": "python",
   "pygments_lexer": "ipython3",
   "version": "3.10.5"
  }
 },
 "nbformat": 4,
 "nbformat_minor": 5
}
