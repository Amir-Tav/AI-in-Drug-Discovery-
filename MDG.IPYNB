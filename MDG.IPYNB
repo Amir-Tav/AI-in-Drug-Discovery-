{
 "cells": [
  {
   "cell_type": "markdown",
   "id": "7697a824",
   "metadata": {},
   "source": [
    "## Method 3: Model improvements  \n",
    "\n",
    "\n",
    "- **Balanced Sampling:** Introduced `WeightedRandomSampler` to handle class imbalance during training.\n",
    "- **Regularisation:** Applied `weight_decay` in the optimizer to reduce overfitting via L2 regularisation.\n",
    "- **Validation Split:** Added a validation set to monitor generalisation and prevent overfitting.\n",
    "- **Early Stopping:** Implemented early stopping based on validation loss to avoid over-training.\n",
    "- **Learning Rate Scheduling:** Used `ReduceLROnPlateau` to dynamically adjust learning rate when performance plateaus.\n",
    "\n"
   ]
  },
  {
   "cell_type": "code",
   "execution_count": 26,
   "id": "012bb20e",
   "metadata": {},
   "outputs": [],
   "source": [
    "import os\n",
    "import numpy as np\n",
    "import pandas as pd\n",
    "import torch\n",
    "import torch.nn as nn\n",
    "import torch.nn.functional as F\n",
    "from torch.utils.data import DataLoader, TensorDataset\n",
    "from sklearn.model_selection import train_test_split\n",
    "from sklearn.utils.class_weight import compute_class_weight\n",
    "from sklearn.metrics import accuracy_score, classification_report, confusion_matrix, roc_curve, auc\n",
    "from sklearn.preprocessing import label_binarize\n",
    "from tqdm import tqdm\n",
    "import matplotlib.pyplot as plt\n",
    "import seaborn as sns"
   ]
  },
  {
   "cell_type": "markdown",
   "id": "194a31a0",
   "metadata": {},
   "source": [
    "### Mode definition  "
   ]
  },
  {
   "cell_type": "code",
   "execution_count": 3,
   "id": "0d1293b5",
   "metadata": {},
   "outputs": [],
   "source": [
    "import os\n",
    "import numpy as np\n",
    "import pandas as pd\n",
    "import torch\n",
    "import torch.nn as nn\n",
    "import torch.nn.functional as F\n",
    "\n",
    "class ResidualBlock1D(nn.Module):\n",
    "    def __init__(self, in_channels, out_channels, kernel_size=3, stride=1, downsample=None, dropout=0.2):\n",
    "        super(ResidualBlock1D, self).__init__()\n",
    "        padding = kernel_size // 2\n",
    "        self.conv1 = nn.Conv1d(in_channels, out_channels, kernel_size, stride=stride, padding=padding)\n",
    "        self.bn1 = nn.BatchNorm1d(out_channels)\n",
    "        self.relu = nn.ReLU()\n",
    "        self.dropout = nn.Dropout(dropout)\n",
    "        self.conv2 = nn.Conv1d(out_channels, out_channels, kernel_size, padding=padding)\n",
    "        self.bn2 = nn.BatchNorm1d(out_channels)\n",
    "        self.downsample = downsample\n",
    "\n",
    "    def forward(self, x):\n",
    "        identity = x\n",
    "        out = self.relu(self.bn1(self.conv1(x)))\n",
    "        out = self.dropout(out)\n",
    "        out = self.bn2(self.conv2(out))\n",
    "        if self.downsample is not None:\n",
    "            identity = self.downsample(x)\n",
    "        out += identity\n",
    "        return self.relu(out)\n",
    "\n",
    "class ExpandedResNet1D(nn.Module):\n",
    "    def __init__(self, input_channels, num_classes):\n",
    "        super(ExpandedResNet1D, self).__init__()\n",
    "        self.initial_conv = nn.Sequential(\n",
    "            nn.Conv1d(input_channels, 64, kernel_size=7, stride=2, padding=3),\n",
    "            nn.BatchNorm1d(64),\n",
    "            nn.ReLU(),\n",
    "            nn.MaxPool1d(kernel_size=3, stride=2, padding=1)\n",
    "        )\n",
    "        self.layer1 = self._make_layer(64, 64, blocks=3)\n",
    "        self.layer2 = self._make_layer(64, 128, blocks=4, stride=2)\n",
    "        self.layer3 = self._make_layer(128, 256, blocks=6, stride=2)\n",
    "        self.layer4 = self._make_layer(256, 512, blocks=3, stride=2)\n",
    "        self.avgpool = nn.AdaptiveAvgPool1d(1)\n",
    "        self.flatten = nn.Flatten()\n",
    "        self.fc = nn.Linear(512, num_classes)\n",
    "\n",
    "    def _make_layer(self, in_channels, out_channels, blocks, stride=1):\n",
    "        downsample = None\n",
    "        if stride != 1 or in_channels != out_channels:\n",
    "            downsample = nn.Sequential(\n",
    "                nn.Conv1d(in_channels, out_channels, kernel_size=1, stride=stride),\n",
    "                nn.BatchNorm1d(out_channels)\n",
    "            )\n",
    "        layers = [ResidualBlock1D(in_channels, out_channels, stride=stride, downsample=downsample)]\n",
    "        for _ in range(1, blocks):\n",
    "            layers.append(ResidualBlock1D(out_channels, out_channels))\n",
    "        return nn.Sequential(*layers)\n",
    "\n",
    "    def forward(self, x):\n",
    "        x = self.initial_conv(x)\n",
    "        x = self.layer1(x)\n",
    "        x = self.layer2(x)\n",
    "        x = self.layer3(x)\n",
    "        x = self.layer4(x)\n",
    "        x = self.avgpool(x)\n",
    "        x = self.flatten(x)\n",
    "        return self.fc(x)\n"
   ]
  },
  {
   "cell_type": "markdown",
   "id": "ffdb4e44",
   "metadata": {},
   "source": [
    "### Load full data and compute class weights"
   ]
  },
  {
   "cell_type": "code",
   "execution_count": 18,
   "id": "78706acd",
   "metadata": {},
   "outputs": [
    {
     "name": "stdout",
     "output_type": "stream",
     "text": [
      "Class weights: [1. 1. 1.]\n"
     ]
    }
   ],
   "source": [
    "X_all = np.load(\"models/v2/X_all.npy\")\n",
    "y_all = np.load(\"models/v2/y_all.npy\")\n",
    "y_labels = np.load(\"models/v2/y_labels.npy\", allow_pickle=True)\n",
    "\n",
    "class_weights = compute_class_weight(class_weight='balanced', classes=np.unique(y_all), y=y_all)\n",
    "class_weights_tensor = torch.tensor(class_weights, dtype=torch.float32)\n",
    "\n",
    "print(\"Class weights:\", class_weights)\n"
   ]
  },
  {
   "cell_type": "markdown",
   "id": "0915fdd9",
   "metadata": {},
   "source": [
    "### Train/Validation/Test Split & Tensors"
   ]
  },
  {
   "cell_type": "code",
   "execution_count": 27,
   "id": "1922a3e8",
   "metadata": {},
   "outputs": [],
   "source": [
    "X_temp, X_test, y_temp, y_test = train_test_split(\n",
    "    X_all, y_all, test_size=0.2, stratify=y_all, random_state=42\n",
    ")\n",
    "\n",
    "X_train, X_val, y_train, y_val = train_test_split(\n",
    "    X_temp, y_temp, test_size=0.2, stratify=y_temp, random_state=42\n",
    ")\n",
    "\n",
    "X_train_tensor = torch.tensor(X_train).unsqueeze(1).float()\n",
    "y_train_tensor = torch.tensor(y_train).long()\n",
    "\n",
    "X_val_tensor = torch.tensor(X_val).unsqueeze(1).float()\n",
    "y_val_tensor = torch.tensor(y_val).long()\n",
    "\n",
    "X_test_tensor = torch.tensor(X_test).unsqueeze(1).float()\n",
    "y_test_tensor = torch.tensor(y_test).long()\n",
    "\n",
    "train_loader = DataLoader(TensorDataset(X_train_tensor, y_train_tensor), batch_size=64, shuffle=True)\n",
    "val_loader = DataLoader(TensorDataset(X_val_tensor, y_val_tensor), batch_size=64)\n",
    "test_loader = DataLoader(TensorDataset(X_test_tensor, y_test_tensor), batch_size=64)\n"
   ]
  },
  {
   "cell_type": "markdown",
   "id": "ae7cda1f",
   "metadata": {},
   "source": [
    "### Optional Noise Augmentation"
   ]
  },
  {
   "cell_type": "code",
   "execution_count": 28,
   "id": "9bea59ac",
   "metadata": {},
   "outputs": [],
   "source": [
    "def add_noise(inputs, noise_level=0.01):\n",
    "    noise = torch.randn_like(inputs) * noise_level\n",
    "    return inputs + noise"
   ]
  },
  {
   "cell_type": "markdown",
   "id": "a12f02d5",
   "metadata": {},
   "source": [
    "### Focal Loss"
   ]
  },
  {
   "cell_type": "code",
   "execution_count": 29,
   "id": "b6c385d7",
   "metadata": {},
   "outputs": [],
   "source": [
    "class FocalLoss(nn.Module):\n",
    "    def __init__(self, alpha=None, gamma=2.0, reduction='mean'):\n",
    "        super(FocalLoss, self).__init__()\n",
    "        self.alpha = alpha\n",
    "        self.gamma = gamma\n",
    "        self.reduction = reduction\n",
    "\n",
    "    def forward(self, inputs, targets):\n",
    "        ce_loss = F.cross_entropy(inputs, targets, reduction='none', weight=self.alpha)\n",
    "        pt = torch.exp(-ce_loss)\n",
    "        focal_loss = ((1 - pt) ** self.gamma) * ce_loss\n",
    "\n",
    "        if self.reduction == 'mean':\n",
    "            return focal_loss.mean()\n",
    "        elif self.reduction == 'sum':\n",
    "            return focal_loss.sum()\n",
    "        else:\n",
    "            return focal_loss"
   ]
  },
  {
   "cell_type": "markdown",
   "id": "f8cbdcac",
   "metadata": {},
   "source": [
    "### Model & Loss Function with Class Weights"
   ]
  },
  {
   "cell_type": "code",
   "execution_count": 30,
   "id": "0c6a183f",
   "metadata": {},
   "outputs": [],
   "source": [
    "device = torch.device(\"cuda\" if torch.cuda.is_available() else \"cpu\")\n",
    "\n",
    "model = ExpandedResNet1D(input_channels=1, num_classes=len(y_labels)).to(device)\n",
    "criterion = FocalLoss(alpha=class_weights_tensor.to(device), gamma=2.0)\n",
    "optimizer = torch.optim.Adam(model.parameters(), lr=1e-3)\n",
    "scheduler = torch.optim.lr_scheduler.StepLR(optimizer, step_size=10, gamma=0.5)"
   ]
  },
  {
   "cell_type": "markdown",
   "id": "45db8519",
   "metadata": {},
   "source": [
    "### Training Loop"
   ]
  },
  {
   "cell_type": "code",
   "execution_count": 32,
   "id": "ca2e1f57",
   "metadata": {},
   "outputs": [
    {
     "name": "stderr",
     "output_type": "stream",
     "text": [
      "Epoch 1/25: 100%|██████████| 24/24 [00:02<00:00,  9.83it/s]\n",
      "Epoch 2/25: 100%|██████████| 24/24 [00:02<00:00,  9.76it/s]\n",
      "Epoch 3/25: 100%|██████████| 24/24 [00:02<00:00,  9.57it/s]\n",
      "Epoch 4/25: 100%|██████████| 24/24 [00:02<00:00,  9.55it/s]\n",
      "Epoch 5/25: 100%|██████████| 24/24 [00:02<00:00,  9.67it/s]\n",
      "Epoch 6/25: 100%|██████████| 24/24 [00:02<00:00,  9.35it/s]\n",
      "Epoch 7/25: 100%|██████████| 24/24 [00:02<00:00,  9.50it/s]\n",
      "Epoch 8/25: 100%|██████████| 24/24 [00:02<00:00,  9.38it/s]\n",
      "Epoch 9/25: 100%|██████████| 24/24 [00:02<00:00,  9.69it/s]\n",
      "Epoch 10/25: 100%|██████████| 24/24 [00:02<00:00,  9.61it/s]\n",
      "Epoch 11/25: 100%|██████████| 24/24 [00:02<00:00,  9.77it/s]\n",
      "Epoch 12/25: 100%|██████████| 24/24 [00:02<00:00,  9.60it/s]\n",
      "Epoch 13/25: 100%|██████████| 24/24 [00:02<00:00,  9.92it/s]\n",
      "Epoch 14/25: 100%|██████████| 24/24 [00:02<00:00,  9.91it/s]\n",
      "Epoch 15/25: 100%|██████████| 24/24 [00:02<00:00,  9.80it/s]\n",
      "Epoch 16/25: 100%|██████████| 24/24 [00:02<00:00,  9.93it/s]\n",
      "Epoch 17/25: 100%|██████████| 24/24 [00:02<00:00,  9.90it/s]\n",
      "Epoch 18/25: 100%|██████████| 24/24 [00:02<00:00,  9.88it/s]\n",
      "Epoch 19/25: 100%|██████████| 24/24 [00:02<00:00,  9.79it/s]\n",
      "Epoch 20/25: 100%|██████████| 24/24 [00:02<00:00,  9.75it/s]\n",
      "Epoch 21/25: 100%|██████████| 24/24 [00:02<00:00,  9.45it/s]\n",
      "Epoch 22/25: 100%|██████████| 24/24 [00:02<00:00,  9.31it/s]\n",
      "Epoch 23/25: 100%|██████████| 24/24 [00:02<00:00,  9.65it/s]\n",
      "Epoch 24/25: 100%|██████████| 24/24 [00:02<00:00,  9.57it/s]\n",
      "Epoch 25/25: 100%|██████████| 24/24 [00:02<00:00,  9.79it/s]\n"
     ]
    }
   ],
   "source": [
    "num_epochs = 25  # or increase if you like\n",
    "\n",
    "for epoch in range(num_epochs):\n",
    "    model.train()\n",
    "    train_losses = []\n",
    "    train_preds, train_targets = [], []\n",
    "\n",
    "    for xb, yb in tqdm(train_loader, desc=f\"Epoch {epoch+1}/{num_epochs}\"):\n",
    "        xb, yb = xb.to(device), yb.to(device)\n",
    "        xb = add_noise(xb, noise_level=0.01)\n",
    "\n",
    "        optimizer.zero_grad()\n",
    "        outputs = model(xb)\n",
    "        loss = criterion(outputs, yb)\n",
    "        loss.backward()\n",
    "        optimizer.step()\n",
    "\n",
    "        train_losses.append(loss.item())\n",
    "        train_preds.extend(outputs.argmax(dim=1).cpu().numpy())\n",
    "        train_targets.extend(yb.cpu().numpy())\n",
    "\n",
    "    scheduler.step()\n",
    "    train_acc = accuracy_score(train_targets, train_preds)\n",
    "    avg_train_loss = np.mean(train_losses)\n",
    "\n",
    "    # Validation\n",
    "    model.eval()\n"
   ]
  },
  {
   "cell_type": "markdown",
   "id": "7246b2ff",
   "metadata": {},
   "source": [
    "### Evaluation on Test Set"
   ]
  },
  {
   "cell_type": "code",
   "execution_count": null,
   "id": "f285776f",
   "metadata": {},
   "outputs": [
    {
     "name": "stdout",
     "output_type": "stream",
     "text": [
      "\n",
      "🎯 Test Accuracy: 0.9979\n",
      "\n",
      "🧾 Classification Report:\n",
      "              precision    recall  f1-score   support\n",
      "\n",
      "      inward       1.00      0.99      1.00       156\n",
      "    occluded       0.99      1.00      1.00       156\n",
      "     outward       1.00      1.00      1.00       157\n",
      "\n",
      "    accuracy                           1.00       469\n",
      "   macro avg       1.00      1.00      1.00       469\n",
      "weighted avg       1.00      1.00      1.00       469\n",
      "\n"
     ]
    },
    {
     "data": {
      "image/png": "[encoded data removed]",
      "text/plain": [
       "<Figure size 600x500 with 2 Axes>"
      ]
     },
     "metadata": {},
     "output_type": "display_data"
    },
    {
     "data": {
      "image/png": "[encoded data removed]",
      "text/plain": [
       "<Figure size 800x600 with 1 Axes>"
      ]
     },
     "metadata": {},
     "output_type": "display_data"
    }
   ],
   "source": [
    "model.load_state_dict(torch.load(\"models/v2/resnet1d_final.pt\"))\n",
    "model.eval()\n",
    "test_preds, test_targets, test_probs = [], [], []\n",
    "\n",
    "with torch.no_grad():\n",
    "    for xb, yb in test_loader:\n",
    "        xb = xb.to(device)\n",
    "        outputs = model(xb)\n",
    "        probs = torch.softmax(outputs, dim=1).cpu().numpy()\n",
    "        preds = np.argmax(probs, axis=1)\n",
    "\n",
    "        test_preds.extend(preds)\n",
    "        test_targets.extend(yb.numpy())\n",
    "        test_probs.extend(probs)\n",
    "\n",
    "test_preds = np.array(test_preds)\n",
    "test_targets = np.array(test_targets)\n",
    "test_probs = np.array(test_probs)\n",
    "\n",
    "acc = accuracy_score(test_targets, test_preds)\n",
    "print(f\"\\n🎯 Test Accuracy: {acc:.4f}\")\n",
    "\n",
    "print(\"\\n🧾 Classification Report:\")\n",
    "print(classification_report(test_targets, test_preds, target_names=y_labels))\n",
    "\n",
    "cm = confusion_matrix(test_targets, test_preds)\n",
    "plt.figure(figsize=(6, 5))\n",
    "sns.heatmap(cm, annot=True, fmt=\"d\", xticklabels=y_labels, yticklabels=y_labels, cmap=\"Blues\")\n",
    "plt.title(\"Confusion Matrix\")\n",
    "plt.xlabel(\"Predicted\")\n",
    "plt.ylabel(\"True\")\n",
    "plt.tight_layout()\n",
    "plt.show()\n",
    "\n",
    "# ROC\n",
    "y_test_bin = label_binarize(test_targets, classes=np.arange(len(y_labels)))\n",
    "fpr, tpr, roc_auc = {}, {}, {}\n",
    "\n",
    "plt.figure(figsize=(8, 6))\n",
    "for i in range(len(y_labels)):\n",
    "    fpr[i], tpr[i], _ = roc_curve(y_test_bin[:, i], test_probs[:, i])\n",
    "    roc_auc[i] = auc(fpr[i], tpr[i])\n",
    "    plt.plot(fpr[i], tpr[i], label=f\"{y_labels[i]} (AUC = {roc_auc[i]:.2f})\")\n",
    "\n",
    "plt.plot([0, 1], [0, 1], 'k--', label=\"Random\")\n",
    "plt.xlabel(\"False Positive Rate\")\n",
    "plt.ylabel(\"True Positive Rate\")\n",
    "plt.title(\"ROC Curves (One-vs-Rest)\")\n",
    "plt.legend()\n",
    "plt.tight_layout()\n",
    "plt.show()\n"
   ]
  }
 ],
 "metadata": {
  "kernelspec": {
   "display_name": "god",
   "language": "python",
   "name": "python3"
  },
  "language_info": {
   "codemirror_mode": {
    "name": "ipython",
    "version": 3
   },
   "file_extension": ".py",
   "mimetype": "text/x-python",
   "name": "python",
   "nbconvert_exporter": "python",
   "pygments_lexer": "ipython3",
   "version": "3.11.9"
  }
 },
 "nbformat": 4,
 "nbformat_minor": 5
}
